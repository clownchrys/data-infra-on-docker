{
 "cells": [
  {
   "cell_type": "code",
   "execution_count": 1,
   "id": "c1ede9d2-648d-40c6-b047-a885272a2181",
   "metadata": {
    "scrolled": true
   },
   "outputs": [
    {
     "name": "stdout",
     "output_type": "stream",
     "text": [
      "Collecting elasticsearch==8.5.2\n",
      "  Downloading elasticsearch-8.5.2-py3-none-any.whl (385 kB)\n",
      "\u001b[2K     \u001b[90m━━━━━━━━━━━━━━━━━━━━━━━━━━━━━━━━━━━━━━━\u001b[0m \u001b[32m385.3/385.3 kB\u001b[0m \u001b[31m9.4 MB/s\u001b[0m eta \u001b[36m0:00:00\u001b[0ma \u001b[36m0:00:01\u001b[0m\n",
      "\u001b[?25hCollecting numpy\n",
      "  Downloading numpy-1.26.3-cp311-cp311-manylinux_2_17_x86_64.manylinux2014_x86_64.whl.metadata (61 kB)\n",
      "\u001b[2K     \u001b[90m━━━━━━━━━━━━━━━━━━━━━━━━━━━━━━━━━━━━━━━━\u001b[0m \u001b[32m61.2/61.2 kB\u001b[0m \u001b[31m6.3 MB/s\u001b[0m eta \u001b[36m0:00:00\u001b[0m\n",
      "\u001b[?25hCollecting elastic-transport<9,>=8 (from elasticsearch==8.5.2)\n",
      "  Downloading elastic_transport-8.11.0-py3-none-any.whl.metadata (3.5 kB)\n",
      "Requirement already satisfied: urllib3<3,>=1.26.2 in /opt/conda/lib/python3.11/site-packages (from elastic-transport<9,>=8->elasticsearch==8.5.2) (2.0.7)\n",
      "Requirement already satisfied: certifi in /opt/conda/lib/python3.11/site-packages (from elastic-transport<9,>=8->elasticsearch==8.5.2) (2023.7.22)\n",
      "Downloading numpy-1.26.3-cp311-cp311-manylinux_2_17_x86_64.manylinux2014_x86_64.whl (18.3 MB)\n",
      "\u001b[2K   \u001b[90m━━━━━━━━━━━━━━━━━━━━━━━━━━━━━━━━━━━━━━━━\u001b[0m \u001b[32m18.3/18.3 MB\u001b[0m \u001b[31m42.9 MB/s\u001b[0m eta \u001b[36m0:00:00\u001b[0m00:01\u001b[0m00:01\u001b[0m\n",
      "\u001b[?25hDownloading elastic_transport-8.11.0-py3-none-any.whl (59 kB)\n",
      "\u001b[2K   \u001b[90m━━━━━━━━━━━━━━━━━━━━━━━━━━━━━━━━━━━━━━━━\u001b[0m \u001b[32m59.8/59.8 kB\u001b[0m \u001b[31m8.2 MB/s\u001b[0m eta \u001b[36m0:00:00\u001b[0m\n",
      "\u001b[?25hInstalling collected packages: numpy, elastic-transport, elasticsearch\n",
      "Successfully installed elastic-transport-8.11.0 elasticsearch-8.5.2 numpy-1.26.3\n"
     ]
    }
   ],
   "source": [
    "%%bash\n",
    "pip install elasticsearch==8.5.2 numpy"
   ]
  },
  {
   "cell_type": "code",
   "execution_count": 2,
   "id": "010ba603-ce92-41f3-81bc-ad025073fa3b",
   "metadata": {},
   "outputs": [],
   "source": [
    "from elasticsearch import Elasticsearch, helpers\n",
    "import numpy as np"
   ]
  },
  {
   "cell_type": "code",
   "execution_count": 3,
   "id": "5bad5088-c330-4411-aeb1-9d29a940f4b7",
   "metadata": {},
   "outputs": [
    {
     "data": {
      "text/plain": [
       "<Elasticsearch(['http://elasticsearch:9200'])>"
      ]
     },
     "execution_count": 3,
     "metadata": {},
     "output_type": "execute_result"
    }
   ],
   "source": [
    "client = Elasticsearch(hosts='http://elasticsearch:9200')\n",
    "client"
   ]
  },
  {
   "cell_type": "code",
   "execution_count": 46,
   "id": "10df9129-d41c-4bd1-ade2-c6b58f2c66b9",
   "metadata": {},
   "outputs": [
    {
     "name": "stdout",
     "output_type": "stream",
     "text": [
      "index deleted!\n"
     ]
    },
    {
     "data": {
      "text/plain": [
       "ObjectApiResponse({'acknowledged': True, 'shards_acknowledged': True, 'index': 'vector-index'})"
      ]
     },
     "execution_count": 46,
     "metadata": {},
     "output_type": "execute_result"
    }
   ],
   "source": [
    "INDEX_NAME = \"vector-index\"\n",
    "N_DIMS = 2\n",
    "\n",
    "if client.indices.exists(index=INDEX_NAME).body:\n",
    "    client.indices.delete(index=INDEX_NAME)\n",
    "    print(\"index deleted!\")\n",
    "\n",
    "client.indices.create(\n",
    "    index=INDEX_NAME,\n",
    "    settings={\n",
    "        \"number_of_shards\": 1,\n",
    "        \"number_of_replicas\": 0\n",
    "    },\n",
    "    # https://www.elastic.co/guide/en/elasticsearch/reference/current/mapping-types.html\n",
    "    mappings={\n",
    "        \"properties\": {\n",
    "            \"name\": {\n",
    "                \"type\": \"keyword\"\n",
    "            },\n",
    "            \"value\": {\n",
    "                \"type\": \"long\"\n",
    "            },\n",
    "            \"vector\": {\n",
    "                # https://www.elastic.co/guide/en/elasticsearch/reference/current/dense-vector.html#dense-vector-params\n",
    "                \"type\": \"dense_vector\",\n",
    "                \"dims\": N_DIMS,\n",
    "                \"index\": True, # when you use approximate knn, keep False to significantly improve indexing speed\n",
    "                \"similarity\": \"cosine\"\n",
    "            }\n",
    "        }\n",
    "    }\n",
    ")"
   ]
  },
  {
   "cell_type": "code",
   "execution_count": 47,
   "id": "de785149-542c-4fc1-90dc-1225111503c4",
   "metadata": {},
   "outputs": [
    {
     "data": {
      "text/plain": [
       "(50, [])"
      ]
     },
     "execution_count": 47,
     "metadata": {},
     "output_type": "execute_result"
    }
   ],
   "source": [
    "docs = [\n",
    "    {\n",
    "        \"_index\": INDEX_NAME,\n",
    "        \"_source\": {\n",
    "            \"name\": str(i),\n",
    "            \"value\": i,\n",
    "            \"vector\": np.random.rand(N_DIMS).tolist()\n",
    "        }\n",
    "    }\n",
    "    for i in range(50)\n",
    "]\n",
    "res = helpers.bulk(client, docs)\n",
    "res"
   ]
  },
  {
   "cell_type": "code",
   "execution_count": 48,
   "id": "3e07bb41-bef8-4e59-b5bb-1fe16fa8aedd",
   "metadata": {},
   "outputs": [
    {
     "data": {
      "text/plain": [
       "{'_index': 'vector-index',\n",
       " '_id': 'I-se8owBu7_hAk1Ejdcn',\n",
       " '_score': 1.0,\n",
       " '_source': {'name': '0',\n",
       "  'value': 0,\n",
       "  'vector': [0.3718906891612188, 0.2088208801410606]}}"
      ]
     },
     "execution_count": 48,
     "metadata": {},
     "output_type": "execute_result"
    }
   ],
   "source": [
    "# search test: Basic\n",
    "\n",
    "response = client.search(index=\"vector-index\", size=1)\n",
    "response[\"hits\"][\"hits\"][0]"
   ]
  },
  {
   "cell_type": "code",
   "execution_count": 79,
   "id": "e216b204-aee0-4ada-b921-dfba9f88993a",
   "metadata": {},
   "outputs": [
    {
     "name": "stdout",
     "output_type": "stream",
     "text": [
      "result: {'value': 6, 'relation': 'eq'}\n",
      "max: 0.99985754\n",
      "0.99985754 {'name': '5', 'vector': [0.8537696417742492, 0.664062133932174]}\n",
      "0.99481416 {'name': '2', 'vector': [0.9851137218806424, 0.591550115816482]}\n",
      "0.99251133 {'name': '0', 'vector': [0.3718906891612188, 0.2088208801410606]}\n",
      "0.93329597 {'name': '4', 'vector': [0.733561040786174, 0.12023735760251242]}\n",
      "0.93143773 {'name': '3', 'vector': [0.20893348959824387, 0.5618820324723092]}\n",
      "0.8891889 {'name': '1', 'vector': [0.20155002196109328, 0.9590155010604668]}\n"
     ]
    }
   ],
   "source": [
    "# search test: Approximate kNN\n",
    "# https://www.elastic.co/guide/en/elasticsearch/reference/current/knn-search.html#knn-similarity-search\n",
    "\n",
    "response = client.search(\n",
    "    index=\"vector-index\",\n",
    "    knn={\n",
    "        \"field\": \"vector\",\n",
    "        \"query_vector\": np.random.rand(N_DIMS).tolist(),\n",
    "        \"k\": 10,\n",
    "        \"num_candidates\": 100,\n",
    "        \"filter\": {\n",
    "            \"bool\" : {\n",
    "                \"filter\" : {\n",
    "                  \"range\" : {\"value\" : { \"lte\": 5 }}\n",
    "                }\n",
    "            }\n",
    "        }\n",
    "    },\n",
    "    source_includes=[\"name\", \"vector\"],\n",
    "    # fields=[\"name\", \"vector\"],\n",
    ")\n",
    "print(\"result:\", response[\"hits\"][\"total\"])\n",
    "print(\"max:\", response[\"hits\"][\"max_score\"])\n",
    "\n",
    "for obj in response[\"hits\"][\"hits\"]:\n",
    "    print(obj[\"_score\"], obj['_source'])"
   ]
  },
  {
   "cell_type": "code",
   "execution_count": 69,
   "id": "428241bb-ee47-438d-ba17-c545a6dbc176",
   "metadata": {},
   "outputs": [
    {
     "name": "stdout",
     "output_type": "stream",
     "text": [
      "result: {'value': 25, 'relation': 'eq'}\n",
      "max: 0.9999603\n",
      "0.9999603 {'name': '44', 'vector': [0.008809141187231528, 0.6949595087693148]}\n",
      "0.99973714 {'name': '26', 'vector': [0.028083398437410922, 0.8636727207368365]}\n",
      "0.99758077 {'name': '40', 'vector': [0.029972109738166552, 0.30333338066093274]}\n",
      "0.99246377 {'name': '31', 'vector': [0.14111045026077274, 0.803158292966446]}\n",
      "0.9920347 {'name': '33', 'vector': [0.13841690735579237, 0.7658192449866671]}\n",
      "0.9771153 {'name': '41', 'vector': [0.28827658527392896, 0.9195358731988713]}\n",
      "0.9663541 {'name': '34', 'vector': [0.37537263144608435, 0.9706070020075324]}\n",
      "0.95907885 {'name': '43', 'vector': [0.32355965546215826, 0.7496310258282273]}\n",
      "0.94053614 {'name': '36', 'vector': [0.34108133469575264, 0.6352491695686251]}\n",
      "0.90907675 {'name': '47', 'vector': [0.6596271298718076, 0.9384123138535823]}\n"
     ]
    }
   ],
   "source": [
    "# search test: Exact, brute-force kNN\n",
    "\n",
    "query = {\n",
    "    \"script_score\": {\n",
    "        # \"query\": {\"match_all\": {}},\n",
    "        \"query\" : {\n",
    "            \"bool\" : {\n",
    "                \"filter\" : {\n",
    "                  \"range\" : {\"value\" : { \"gte\": 25 }}\n",
    "                }\n",
    "            }\n",
    "        },\n",
    "        \"script\": {\n",
    "            \"source\": \"(cosineSimilarity(params.queryVector, 'vector') + 1) / 2\",\n",
    "            \"params\": {\"queryVector\": np.random.rand(N_DIMS).tolist()}\n",
    "        }\n",
    "    }\n",
    "}\n",
    "\n",
    "response = client.search(\n",
    "    index=\"vector-index\",\n",
    "    query=query,\n",
    "    size=10,\n",
    "    source_includes=[\"name\", \"vector\"],\n",
    "    # fields=[\"name\", \"vector\"],\n",
    ")\n",
    "print(\"result:\", response[\"hits\"][\"total\"])\n",
    "print(\"max:\", response[\"hits\"][\"max_score\"])\n",
    "\n",
    "for obj in response[\"hits\"][\"hits\"]:\n",
    "    print(obj[\"_score\"], obj['_source'])"
   ]
  },
  {
   "cell_type": "code",
   "execution_count": null,
   "id": "d4c4d0cb-0a29-41be-afd3-49eef3c20c8a",
   "metadata": {},
   "outputs": [],
   "source": []
  }
 ],
 "metadata": {
  "kernelspec": {
   "display_name": "Python 3 (ipykernel)",
   "language": "python",
   "name": "python3"
  },
  "language_info": {
   "codemirror_mode": {
    "name": "ipython",
    "version": 3
   },
   "file_extension": ".py",
   "mimetype": "text/x-python",
   "name": "python",
   "nbconvert_exporter": "python",
   "pygments_lexer": "ipython3",
   "version": "3.11.6"
  }
 },
 "nbformat": 4,
 "nbformat_minor": 5
}
